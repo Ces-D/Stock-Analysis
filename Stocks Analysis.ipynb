{
 "cells": [
  {
   "cell_type": "markdown",
   "metadata": {},
   "source": [
    "# Stock Analysis\n"
   ]
  },
  {
   "cell_type": "code",
   "execution_count": 2,
   "metadata": {},
   "outputs": [],
   "source": [
    "import requests\n",
    "\n",
    "import pandas as pd\n",
    "import time\n",
    "import numpy as np\n",
    "\n",
    "import datetime\n",
    "import seaborn as sns\n",
    "\n",
    "import matplotlib.pyplot as plt\n",
    "\n",
    "\n",
    "import math\n",
    "\n",
    "from alpha_vantage.timeseries import TimeSeries"
   ]
  },
  {
   "cell_type": "code",
   "execution_count": null,
   "metadata": {},
   "outputs": [],
   "source": [
    "conda update -- all"
   ]
  },
  {
   "cell_type": "markdown",
   "metadata": {},
   "source": [
    "# Introduction"
   ]
  },
  {
   "cell_type": "markdown",
   "metadata": {},
   "source": [
    "Accurately predicting the stock markets is a complex task as there are millions of events and pre-conditions for a particular stock to move in a particular direction. Capturing as many pre-conditions as possible is essential. We also need to make several important assumptions:\n",
    "1. markets are not 100% random\n",
    "2. history repeats \n",
    "3. markets follow people's rational behavior\n",
    "\n",
    "I will first try to predict the price movements of Starbucks (SBUX). For the purpose I will use daily closing price from April 1, 2010 to present date (April 16,2020)."
   ]
  },
  {
   "cell_type": "markdown",
   "metadata": {},
   "source": [
    "# The Data"
   ]
  },
  {
   "cell_type": "markdown",
   "metadata": {},
   "source": [
    "I need to understand what affects whether SBUX's stock price will up or down. It is what people think as a whole. Hence, I need to include as much information as possible. I will use 3,667 days in total - 2566 days (70%) for training and 1101 days (30%) for the test. Then I will compare the predicted results with a test (hold-out) data. Each type of data (referred to as features) is explained in greater detail in later sections, but as a high level overview, the feautres I will use are:\n",
    "1. **Correlated Assets** - these are other assets (any type, not necessarily stocks, such as commodities, FX, indices, or even fixed income securities). A big compnay, such as Starbucks, obviously doesn't live in an isolated world- it depends on and interacts with many external factors, including its competitors, clients, the global economy, geo-political situation, fiscal and monetary policy, access to capital, etc.\n",
    "\n",
    "2. **Technical Indicators** - a lot of investors follow technical indicators. We will include the most popular indicators as independant feautres. Among them: 8 and 21 day moving average, exponential moving average, momentum, Bollinger bands, MACD.\n",
    "\n",
    "3. **Fundamental Analysis** - An important feature indicating whethera stock might move up or down. There are two features that can be used in fundamental analysis:\n",
    "\n",
    "    1. Analysing the company performance using 10-K adn 10-Q reports, analysing ROE and P/E, etc\n",
    "    2. News- potentially news can indicate upcoming events that can potentially move the stock in certain directions. I will read all daily news for Starbucks and extract whether the total sentiment about Starbucks on that day is positive, neutral, negative (as a score from 0 to 1). As many investors closely read the news and make investment decisions based partially on news, there is a somewhat high chance that if, say, the news for Starbucks today are extremely positive the stock will surge tomorrow. *One crucial point, we will perform feature importance (meaning how indicative it is for the movement of SBUX) on absolutely every feature later on and decide whether we will use it*\n",
    "    For the purpose of creating accurate setniment prediction we will use Neural Language Processing (NLP). We will use *BERT*, Google's recently announced NLP approach for transfer learning for sentiment classification stock news sentiment extraction. \n",
    "    \n",
    "4. **Fourier Transforms** - Along with daily closing price, we will create Fourier Transforms in order to generalize several long and short term trends. Using these transforms I will eliminate a lot of noise (random walks) and create approximations of the real stock movement. Having trend approximationscan help the LSTM network pick its prediction trends more accurately. \n",
    "\n",
    "5. **Autoregressive Integrated Moving Average**(ARIMA) - This was the most popular technique for predicting future values of time series data (in the pre-neural networks ages). I will add it and see if it comes off as an important predictive feature. \n",
    "\n",
    "6. **Stack Autoencoders** - most of the aforementioned feautres (fundamental analysis, technical analysis, etc) were found by people after decades of research. But maybe I have missed something. Maybe there are hidden correlations that people cannot comprehend due to the enormous amount of data points, events, assets, charts, etc. With stacked autoencoders (type of neural networks) I can use the power of computers and probably find new types of features that affect stock movements. Even though I will not be able to understand these features in human language, I will use them in the GAN. \n",
    "\n",
    "7. **Deep Unsupervised Learning for Anomaly Detection in Options Pricing** - I will use one more feature for every day we will add the price for 90-days call option on Starbucks stock. Options pricing itself combines a lot of data. The price for options contract depends on the future value of the stock (analysts try to also predict the price in order to come up with the most accurate price for the call option). Using deep unsupervised learning (*Self-Organized Maps*) we will try to spot anomalies in every day's pricing. Anomaly (such as drastic changes in pricing) might indicate an event that might be useful for the LSTM to learn the overall stock pattern. \n",
    "\n",
    "Having so many features:\n",
    "1. Perform statistical checks for the quality of the data. If the data we create is flawed, then no matter how sophisticated our algorithms, the results will not be positive. The checks include making sure the data deos not suffer from *heteroskedasticity*, *multicollinearity*, or *serial correlation*. \n",
    "2. Create feature importance. If a feature has no explanatory power to the stock we want to predict, then there is no need for us to use it in the training of neural nets. I will use **XGBoost** (eXtreme Gradient Boosting), a type of boosted tree regression algorithms. \n",
    "\n",
    "As a final step of data preparation, Iwill also create **Eigen Portfolios** using Principal Component Analysis (PCA) in order to reduce the dimensionality of the feautres created from the autoencoders. \n"
   ]
  },
  {
   "cell_type": "markdown",
   "metadata": {},
   "source": [
    "#obtain the starbucks data for the time period\n",
    "API_key= api_key\n",
    "\n",
    "ts=TimeSeries(key=API_key,output_format='pandas')\n",
    "\n",
    "data_csv,meta_data=ts.get_daily(symbol='SBUX',outputsize='full')"
   ]
  },
  {
   "cell_type": "markdown",
   "metadata": {},
   "source": [
    "#convert data to csv\n",
    "data_csv.to_csv('SBUX_Stock.csv',encoding='utf-8',index=True)"
   ]
  },
  {
   "cell_type": "code",
   "execution_count": null,
   "metadata": {},
   "outputs": [],
   "source": [
    "def parser(x):\n",
    "    return datetime.datetime.strptime(x,'%Y-%m-%d')"
   ]
  },
  {
   "cell_type": "code",
   "execution_count": 3,
   "metadata": {},
   "outputs": [],
   "source": [
    "#load in the SBUX data\n",
    "\n",
    "SBUX= pd.read_csv(\"D:\\DataFrames\\Stocks\\SBUX_Stock.csv\")"
   ]
  },
  {
   "cell_type": "code",
   "execution_count": 21,
   "metadata": {},
   "outputs": [],
   "source": []
  },
  {
   "cell_type": "code",
   "execution_count": 22,
   "metadata": {},
   "outputs": [
    {
     "ename": "NameError",
     "evalue": "name 'value' is not defined",
     "output_type": "error",
     "traceback": [
      "\u001b[1;31m---------------------------------------------------------------------------\u001b[0m",
      "\u001b[1;31mNameError\u001b[0m                                 Traceback (most recent call last)",
      "\u001b[1;32m<ipython-input-22-addb43b4a814>\u001b[0m in \u001b[0;36m<module>\u001b[1;34m\u001b[0m\n\u001b[1;32m----> 1\u001b[1;33m \u001b[0mSBUX\u001b[0m\u001b[1;33m[\u001b[0m\u001b[1;34m'EMA7'\u001b[0m\u001b[1;33m]\u001b[0m\u001b[1;33m=\u001b[0m\u001b[0mexponential_moving_average\u001b[0m\u001b[1;33m(\u001b[0m\u001b[0mSBUX\u001b[0m\u001b[1;33m.\u001b[0m\u001b[0msort_index\u001b[0m\u001b[1;33m(\u001b[0m\u001b[0mascending\u001b[0m\u001b[1;33m=\u001b[0m\u001b[1;36m0\u001b[0m\u001b[1;33m)\u001b[0m\u001b[1;33m)\u001b[0m\u001b[1;33m\u001b[0m\u001b[1;33m\u001b[0m\u001b[0m\n\u001b[0m",
      "\u001b[1;32m<ipython-input-21-52241710266b>\u001b[0m in \u001b[0;36mexponential_moving_average\u001b[1;34m(dataset, period)\u001b[0m\n\u001b[0;32m      1\u001b[0m \u001b[1;31m# data should be in datetime format. so that we can calculate the\u001b[0m\u001b[1;33m\u001b[0m\u001b[1;33m\u001b[0m\u001b[1;33m\u001b[0m\u001b[0m\n\u001b[0;32m      2\u001b[0m \u001b[1;32mdef\u001b[0m \u001b[0mexponential_moving_average\u001b[0m\u001b[1;33m(\u001b[0m\u001b[0mdataset\u001b[0m\u001b[1;33m,\u001b[0m \u001b[0mperiod\u001b[0m\u001b[1;33m=\u001b[0m\u001b[1;36m7\u001b[0m\u001b[1;33m)\u001b[0m\u001b[1;33m:\u001b[0m\u001b[1;33m\u001b[0m\u001b[1;33m\u001b[0m\u001b[0m\n\u001b[1;32m----> 3\u001b[1;33m     \u001b[0mtoday_value\u001b[0m \u001b[1;33m=\u001b[0m \u001b[0mvalue\u001b[0m\u001b[1;33m\u001b[0m\u001b[1;33m\u001b[0m\u001b[0m\n\u001b[0m\u001b[0;32m      4\u001b[0m     \u001b[0mmultiplier\u001b[0m \u001b[1;33m=\u001b[0m \u001b[1;36m2\u001b[0m\u001b[1;33m/\u001b[0m\u001b[1;33m(\u001b[0m\u001b[0mperiod\u001b[0m\u001b[1;33m+\u001b[0m\u001b[1;36m1\u001b[0m\u001b[1;33m)\u001b[0m\u001b[1;33m\u001b[0m\u001b[1;33m\u001b[0m\u001b[0m\n\u001b[0;32m      5\u001b[0m     \u001b[1;32mreturn\u001b[0m \u001b[0mtoday_value\u001b[0m\u001b[1;33m*\u001b[0m\u001b[0mmultiplier\u001b[0m\u001b[1;33m/\u001b[0m\u001b[0mexponential_moving_average\u001b[0m\u001b[1;33m*\u001b[0m\u001b[1;33m(\u001b[0m\u001b[1;36m1\u001b[0m\u001b[1;33m-\u001b[0m\u001b[0mmultiplier\u001b[0m\u001b[1;33m)\u001b[0m\u001b[1;33m\u001b[0m\u001b[1;33m\u001b[0m\u001b[0m\n",
      "\u001b[1;31mNameError\u001b[0m: name 'value' is not defined"
     ]
    }
   ],
   "source": []
  },
  {
   "cell_type": "code",
   "execution_count": 18,
   "metadata": {},
   "outputs": [
    {
     "data": {
      "text/html": [
       "<div>\n",
       "<style scoped>\n",
       "    .dataframe tbody tr th:only-of-type {\n",
       "        vertical-align: middle;\n",
       "    }\n",
       "\n",
       "    .dataframe tbody tr th {\n",
       "        vertical-align: top;\n",
       "    }\n",
       "\n",
       "    .dataframe thead th {\n",
       "        text-align: right;\n",
       "    }\n",
       "</style>\n",
       "<table border=\"1\" class=\"dataframe\">\n",
       "  <thead>\n",
       "    <tr style=\"text-align: right;\">\n",
       "      <th></th>\n",
       "      <th>date</th>\n",
       "      <th>1. open</th>\n",
       "      <th>2. high</th>\n",
       "      <th>3. low</th>\n",
       "      <th>4. close</th>\n",
       "      <th>5. volume</th>\n",
       "      <th>EMA7</th>\n",
       "    </tr>\n",
       "  </thead>\n",
       "  <tbody>\n",
       "    <tr>\n",
       "      <th>0</th>\n",
       "      <td>2020-04-17</td>\n",
       "      <td>76.6200</td>\n",
       "      <td>77.390</td>\n",
       "      <td>74.970</td>\n",
       "      <td>77.10</td>\n",
       "      <td>14092484.0</td>\n",
       "      <td>2.609697</td>\n",
       "    </tr>\n",
       "    <tr>\n",
       "      <th>1</th>\n",
       "      <td>2020-04-16</td>\n",
       "      <td>73.1100</td>\n",
       "      <td>73.760</td>\n",
       "      <td>71.345</td>\n",
       "      <td>73.51</td>\n",
       "      <td>11946812.0</td>\n",
       "      <td>2.609697</td>\n",
       "    </tr>\n",
       "    <tr>\n",
       "      <th>2</th>\n",
       "      <td>2020-04-15</td>\n",
       "      <td>72.0100</td>\n",
       "      <td>73.175</td>\n",
       "      <td>70.710</td>\n",
       "      <td>72.55</td>\n",
       "      <td>10642533.0</td>\n",
       "      <td>2.609697</td>\n",
       "    </tr>\n",
       "    <tr>\n",
       "      <th>3</th>\n",
       "      <td>2020-04-14</td>\n",
       "      <td>73.6900</td>\n",
       "      <td>74.330</td>\n",
       "      <td>72.660</td>\n",
       "      <td>73.67</td>\n",
       "      <td>10911999.0</td>\n",
       "      <td>2.609697</td>\n",
       "    </tr>\n",
       "    <tr>\n",
       "      <th>4</th>\n",
       "      <td>2020-04-13</td>\n",
       "      <td>73.5203</td>\n",
       "      <td>73.600</td>\n",
       "      <td>70.350</td>\n",
       "      <td>71.76</td>\n",
       "      <td>11191792.0</td>\n",
       "      <td>2.609697</td>\n",
       "    </tr>\n",
       "  </tbody>\n",
       "</table>\n",
       "</div>"
      ],
      "text/plain": [
       "         date  1. open  2. high  3. low  4. close   5. volume      EMA7\n",
       "0  2020-04-17  76.6200   77.390  74.970     77.10  14092484.0  2.609697\n",
       "1  2020-04-16  73.1100   73.760  71.345     73.51  11946812.0  2.609697\n",
       "2  2020-04-15  72.0100   73.175  70.710     72.55  10642533.0  2.609697\n",
       "3  2020-04-14  73.6900   74.330  72.660     73.67  10911999.0  2.609697\n",
       "4  2020-04-13  73.5203   73.600  70.350     71.76  11191792.0  2.609697"
      ]
     },
     "execution_count": 18,
     "metadata": {},
     "output_type": "execute_result"
    }
   ],
   "source": [
    "SBUX.head()"
   ]
  },
  {
   "cell_type": "code",
   "execution_count": 4,
   "metadata": {},
   "outputs": [
    {
     "data": {
      "text/plain": [
       "0      2020-04-17\n",
       "1      2020-04-16\n",
       "2      2020-04-15\n",
       "3      2020-04-14\n",
       "4      2020-04-13\n",
       "          ...    \n",
       "5027   2000-04-24\n",
       "5028   2000-04-20\n",
       "5029   2000-04-19\n",
       "5030   2000-04-18\n",
       "5031   2000-04-17\n",
       "Name: date, Length: 5032, dtype: datetime64[ns]"
      ]
     },
     "execution_count": 4,
     "metadata": {},
     "output_type": "execute_result"
    }
   ],
   "source": [
    "#convert date to datetime\n",
    "\n",
    "pd.to_datetime(SBUX['date'])"
   ]
  },
  {
   "cell_type": "code",
   "execution_count": 5,
   "metadata": {
    "scrolled": true
   },
   "outputs": [
    {
     "data": {
      "image/png": "[encoded data removed]",
      "text/plain": [
       "<Figure size 1400x500 with 1 Axes>"
      ]
     },
     "metadata": {
      "needs_background": "light"
     },
     "output_type": "display_data"
    }
   ],
   "source": [
    "# lets visualize the stock\n",
    "\n",
    "plt.figure(figsize=(14, 5), dpi=100)\n",
    "plt.plot(SBUX['date'], SBUX['4. close'], label='Starbucks stock')\n",
    "plt.xlabel('date')\n",
    "plt.ylabel('USD')\n",
    "plt.title('Figure 1: Starbucks stock price')\n",
    "plt.show()"
   ]
  },
  {
   "cell_type": "markdown",
   "metadata": {},
   "source": [
    "## Correlated Assets"
   ]
  },
  {
   "cell_type": "markdown",
   "metadata": {},
   "source": [
    "As explained earlier, I will use other assets as features, not only SBUX.\n",
    "\n",
    "What other assets would affect SBUX stock movements? Good understanding of the company, it's lines of business, competitive landscape, dependencies, suppliers and client type, etc, is very important for picking the right set of correlated assets:\n",
    "1. First are the companies similar to SBUX. I will add Dunkin Donuts, Panera, Lavazza and others to the dataset. \n",
    "2. As a coffee shop, Starbucks depends on the global economy. Bad or volatile economy means less tourism related purchases and work day purchases. This is why I will include global economy indices.\n",
    "3. Daily volatility index (**VIX**) - for the reason described above\n",
    "4. **Composite Indices** - such as NASDAQ and NYSE,FTSE100 (UK), Nikkei225 (Japan), Hang Seng and BSE Sensex (APAC) indices\n",
    "5. **Currencies** - global trade is many times reflected into how currencies move, ergo I'll use a basket of currencyes as features. Currencies from supplier countreis and countries with many stores. "
   ]
  },
  {
   "cell_type": "markdown",
   "metadata": {},
   "source": [
    "## Technical Indicators"
   ]
  },
  {
   "cell_type": "code",
   "execution_count": 7,
   "metadata": {},
   "outputs": [],
   "source": [
    "# function only works with the Alpha Vantage data 'Timeseries'\n",
    "def get_technical_indicators(dataset):\n",
    "    #create 7 and 21 days moving average\n",
    "    dataset['ma7'] = dataset['4. close'].rolling(window=7).mean()\n",
    "    dataset['ma21'] = dataset['4. close'].rolling(window=21).mean()\n",
    "    \n",
    "    #create MACD\n",
    "    dataset['26ema'] = pd.ewma(dataset['4. close'],span=26)\n",
    "    dataset['12ema'] = pd.ewma(dataset['4. close'], span=12)\n",
    "    dataset['MACD'] = (dataset['12ema']-dataset['26ema'])\n",
    "    \n",
    "    #create Bollinger Bands\n",
    "    dataset['20sd'] = pd.stats.moments.rolling_std(dataset['4. close'],20)\n",
    "    dataset['upper_band'] = dataset['ma21'] + (dataset['20sd']*2)\n",
    "    dataset['lower_band'] = dataset['ma21'] - (dataset['20sd']*2)\n",
    "    \n",
    "    #create exponential moving average\n",
    "    dataset['ema'] = dataset['price'].ewm(com=0.5).mean()\n",
    "    \n",
    "    #create momentum\n",
    "    dataset['momentum'] = dataset['4. close']-1\n",
    "    \n",
    "    return dataset"
   ]
  },
  {
   "cell_type": "code",
   "execution_count": 8,
   "metadata": {},
   "outputs": [
    {
     "ename": "AttributeError",
     "evalue": "module 'pandas' has no attribute 'ewma'",
     "output_type": "error",
     "traceback": [
      "\u001b[1;31m---------------------------------------------------------------------------\u001b[0m",
      "\u001b[1;31mAttributeError\u001b[0m                            Traceback (most recent call last)",
      "\u001b[1;32m<ipython-input-8-7292c6ddf77f>\u001b[0m in \u001b[0;36m<module>\u001b[1;34m\u001b[0m\n\u001b[1;32m----> 1\u001b[1;33m \u001b[0mdataset_TI_SBUX\u001b[0m\u001b[1;33m=\u001b[0m \u001b[0mget_technical_indicators\u001b[0m\u001b[1;33m(\u001b[0m\u001b[0mSBUX\u001b[0m\u001b[1;33m)\u001b[0m\u001b[1;33m\u001b[0m\u001b[1;33m\u001b[0m\u001b[0m\n\u001b[0m",
      "\u001b[1;32m<ipython-input-7-cb7eafcdb656>\u001b[0m in \u001b[0;36mget_technical_indicators\u001b[1;34m(dataset)\u001b[0m\n\u001b[0;32m      6\u001b[0m \u001b[1;33m\u001b[0m\u001b[0m\n\u001b[0;32m      7\u001b[0m     \u001b[1;31m#create MACD\u001b[0m\u001b[1;33m\u001b[0m\u001b[1;33m\u001b[0m\u001b[1;33m\u001b[0m\u001b[0m\n\u001b[1;32m----> 8\u001b[1;33m     \u001b[0mdataset\u001b[0m\u001b[1;33m[\u001b[0m\u001b[1;34m'26ema'\u001b[0m\u001b[1;33m]\u001b[0m \u001b[1;33m=\u001b[0m \u001b[0mpd\u001b[0m\u001b[1;33m.\u001b[0m\u001b[0mewma\u001b[0m\u001b[1;33m(\u001b[0m\u001b[0mdataset\u001b[0m\u001b[1;33m[\u001b[0m\u001b[1;34m'4. close'\u001b[0m\u001b[1;33m]\u001b[0m\u001b[1;33m,\u001b[0m\u001b[0mspan\u001b[0m\u001b[1;33m=\u001b[0m\u001b[1;36m26\u001b[0m\u001b[1;33m)\u001b[0m\u001b[1;33m\u001b[0m\u001b[1;33m\u001b[0m\u001b[0m\n\u001b[0m\u001b[0;32m      9\u001b[0m     \u001b[0mdataset\u001b[0m\u001b[1;33m[\u001b[0m\u001b[1;34m'12ema'\u001b[0m\u001b[1;33m]\u001b[0m \u001b[1;33m=\u001b[0m \u001b[0mpd\u001b[0m\u001b[1;33m.\u001b[0m\u001b[0mewma\u001b[0m\u001b[1;33m(\u001b[0m\u001b[0mdataset\u001b[0m\u001b[1;33m[\u001b[0m\u001b[1;34m'4. close'\u001b[0m\u001b[1;33m]\u001b[0m\u001b[1;33m,\u001b[0m \u001b[0mspan\u001b[0m\u001b[1;33m=\u001b[0m\u001b[1;36m12\u001b[0m\u001b[1;33m)\u001b[0m\u001b[1;33m\u001b[0m\u001b[1;33m\u001b[0m\u001b[0m\n\u001b[0;32m     10\u001b[0m     \u001b[0mdataset\u001b[0m\u001b[1;33m[\u001b[0m\u001b[1;34m'MACD'\u001b[0m\u001b[1;33m]\u001b[0m \u001b[1;33m=\u001b[0m \u001b[1;33m(\u001b[0m\u001b[0mdataset\u001b[0m\u001b[1;33m[\u001b[0m\u001b[1;34m'12ema'\u001b[0m\u001b[1;33m]\u001b[0m\u001b[1;33m-\u001b[0m\u001b[0mdataset\u001b[0m\u001b[1;33m[\u001b[0m\u001b[1;34m'26ema'\u001b[0m\u001b[1;33m]\u001b[0m\u001b[1;33m)\u001b[0m\u001b[1;33m\u001b[0m\u001b[1;33m\u001b[0m\u001b[0m\n",
      "\u001b[1;32m~\\Anaconda3\\envs\\Data Analysis\\lib\\site-packages\\pandas\\__init__.py\u001b[0m in \u001b[0;36m__getattr__\u001b[1;34m(name)\u001b[0m\n\u001b[0;32m    212\u001b[0m \u001b[1;33m\u001b[0m\u001b[0m\n\u001b[0;32m    213\u001b[0m             \u001b[1;32mreturn\u001b[0m \u001b[0mPanel\u001b[0m\u001b[1;33m\u001b[0m\u001b[1;33m\u001b[0m\u001b[0m\n\u001b[1;32m--> 214\u001b[1;33m         \u001b[1;32mraise\u001b[0m \u001b[0mAttributeError\u001b[0m\u001b[1;33m(\u001b[0m\u001b[1;34m\"module 'pandas' has no attribute '{}'\"\u001b[0m\u001b[1;33m.\u001b[0m\u001b[0mformat\u001b[0m\u001b[1;33m(\u001b[0m\u001b[0mname\u001b[0m\u001b[1;33m)\u001b[0m\u001b[1;33m)\u001b[0m\u001b[1;33m\u001b[0m\u001b[1;33m\u001b[0m\u001b[0m\n\u001b[0m\u001b[0;32m    215\u001b[0m \u001b[1;33m\u001b[0m\u001b[0m\n\u001b[0;32m    216\u001b[0m \u001b[1;33m\u001b[0m\u001b[0m\n",
      "\u001b[1;31mAttributeError\u001b[0m: module 'pandas' has no attribute 'ewma'"
     ]
    }
   ],
   "source": [
    "dataset_TI_SBUX= get_technical_indicators(SBUX)"
   ]
  },
  {
   "cell_type": "markdown",
   "metadata": {},
   "source": [
    "# Dictionary"
   ]
  },
  {
   "cell_type": "markdown",
   "metadata": {},
   "source": [
    "**XGBoost** - optimized distributed boosting library designed to be highly efficient, flexible, and portable. Designed to be memory efficient.\n",
    "\n",
    "**Sklearn.preprocessing** - provides several common utilty fucntions and transformer classes to change raw feature vectors into a represetnation that is more sutiable for the downstream estimators. Learning algorithms benefit from the standaradization of data sets. \n",
    "\n",
    "**Sklearn.metrics** - includes score functions, performance metrics and pairwase metrics and distance computations\n",
    "\n",
    "**Mxnet** - Apache deep learning framework designed for both efficiency and flexibility. It allows you to mic the flavours of deep learning programs together to maximize the efficiency and your productivity. The Python API has two primary high-level packages: the Gluon API and Module API. \n",
    "\n",
    "**8 and 21 Day Moving Average** - Help figure out: whether I want to be in a Portfolio Approach or Tactical Approach, which stocks I want to be long or short, the strength of the current market trend. Average of a stocks daily closing price. \n",
    "\n",
    "**Exponential Moving Average** - Gives recent prices a bigger weight, so it does a better job of measuring recent momentum. An object in motion stays in motion, supposedly. \n",
    "\n",
    "**Bollinger Bands** - a technical analysis tool defined by a set of lines plotted two standard deviations(positvely and negatively) away from a simple moving average (SMA) of the security's price. They bracket the 20-day SMA of the stock with an upper and lower band along wit hthe daily movements of the stocks price. \n",
    "\n",
    "**MACD** - Is a trend following momentum indicator that shows the relationship between two moving averages of a security's price. Calculated by subtracting the 26-period exponential moving average (EMA) from the 12-period EMA. \n",
    "\n",
    "**Fourier Transforms** - decomposes a function into it's constituent frequencies. Transformation from the time domain to the frequency domain. All waves can be viewed equally accurately in the time or frequency domain, we have a new way of viewing the world. \n",
    "\n",
    "**Autoregressive Integrated Moving Average** - A form of regression analysis that gauges the strength of one dependent varaible relative to other changing variables. The goal is to predict future securities or financial market moves by examining the differences between values in the series instead of through actual values. \n",
    "\n",
    "**Heteroskedasticity** - When the standard errors of a variable, monitored over a specific amount of time, are non-constant. The tell-tale sign upon visual inspection of the residual erros is that they will tend to fan out over time. It often arises in two forms: conditional and unconditional. Conditional heteroskedasticity identifies nonconstant volatility when future periods of high and low volatility cannot be identified. Unconditional is used when futures periods of high and low volatility can be identified. \n",
    "\n",
    "**Multicollinearity** - The occurence of high intecorrelations among independent variables in a multiple regression model. This can lead to wider confidence intervals and less reliable probability values for the independant variables.\n",
    "\n",
    "**Serial Correlation** - The relationship between a given variable and a lagged version of itself over various time intervals. In finance, this correlation is used by technical analysts to determine how well the past price of a security predicts the future price. aka lagged correlation. "
   ]
  },
  {
   "cell_type": "code",
   "execution_count": null,
   "metadata": {},
   "outputs": [],
   "source": []
  },
  {
   "cell_type": "code",
   "execution_count": null,
   "metadata": {},
   "outputs": [],
   "source": []
  },
  {
   "cell_type": "code",
   "execution_count": null,
   "metadata": {},
   "outputs": [],
   "source": []
  }
 ],
 "metadata": {
  "kernelspec": {
   "display_name": "Python 3",
   "language": "python",
   "name": "python3"
  },
  "language_info": {
   "codemirror_mode": {
    "name": "ipython",
    "version": 3
   },
   "file_extension": ".py",
   "mimetype": "text/x-python",
   "name": "python",
   "nbconvert_exporter": "python",
   "pygments_lexer": "ipython3",
   "version": "3.7.6"
  },
  "toc": {
   "base_numbering": 1,
   "nav_menu": {},
   "number_sections": true,
   "sideBar": true,
   "skip_h1_title": false,
   "title_cell": "Table of Contents",
   "title_sidebar": "Contents",
   "toc_cell": false,
   "toc_position": {},
   "toc_section_display": true,
   "toc_window_display": true
  }
 },
 "nbformat": 4,
 "nbformat_minor": 4
}
